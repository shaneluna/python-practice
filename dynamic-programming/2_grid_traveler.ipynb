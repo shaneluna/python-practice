{
 "cells": [
  {
   "cell_type": "markdown",
   "metadata": {},
   "source": [
    "# Grid Traveler\n",
    "\n",
    "Say that you are a traveler on a 2D grid. You begin in the top-left corner and your goal is to travel to the bottom-right corner. You may only move down or right.\n",
    "\n",
    "In how many ways can you travel to the goal on a grid with dimensions m*n? (row * column)"
   ]
  },
  {
   "cell_type": "markdown",
   "metadata": {},
   "source": [
    "### 1. Recursion (Brute-Force)\n",
    "\n",
    "- Time: O(2<sup>m+n</sup>)\n",
    "- Space: O(m+n)"
   ]
  },
  {
   "cell_type": "code",
   "execution_count": 1,
   "metadata": {},
   "outputs": [],
   "source": [
    "def grid_traveler1(m, n):\n",
    "    if (m == 1 and n == 1):\n",
    "        return 1\n",
    "    elif (m == 0 or n == 0):\n",
    "        return 0\n",
    "    \n",
    "    return grid_traveler1(m-1, n) + grid_traveler1(m, n-1) "
   ]
  },
  {
   "cell_type": "code",
   "execution_count": 2,
   "metadata": {},
   "outputs": [
    {
     "name": "stdout",
     "output_type": "stream",
     "text": [
      "1\n",
      "3\n",
      "3\n",
      "6\n"
     ]
    }
   ],
   "source": [
    "print(grid_traveler1(1,1)) # 1\n",
    "print(grid_traveler1(2,3)) # 3\n",
    "print(grid_traveler1(3,2)) # 3\n",
    "print(grid_traveler1(3,3)) # 6"
   ]
  },
  {
   "cell_type": "code",
   "execution_count": 3,
   "metadata": {},
   "outputs": [],
   "source": [
    "# very slow\n",
    "# print(grid_traveler1(18,18))"
   ]
  },
  {
   "cell_type": "markdown",
   "metadata": {},
   "source": [
    "### Memoization\n",
    "- Time: O(m*n)\n",
    "- Space: O(m+n)"
   ]
  },
  {
   "cell_type": "code",
   "execution_count": 4,
   "metadata": {},
   "outputs": [],
   "source": [
    "# find gridTraveler(a, b) = gridTraveler(b, a)\n",
    "def grid_traveler2(m, n, memo={}):\n",
    "    if m == 1 and n == 1:\n",
    "        return 1\n",
    "    if m == 0 or n == 0:\n",
    "        return 0\n",
    "    \n",
    "    key = f'{m},{n}'\n",
    "    key_inverse = f'{n},{m}'\n",
    "    \n",
    "    if key in memo:\n",
    "        return memo[key]\n",
    "    elif key_inverse in memo:\n",
    "        return memo[key_inverse]\n",
    "    \n",
    "    memo[key] = grid_traveler2(m-1, n, memo) + grid_traveler2(m, n-1, memo) \n",
    "    return memo[key]"
   ]
  },
  {
   "cell_type": "code",
   "execution_count": 5,
   "metadata": {},
   "outputs": [
    {
     "name": "stdout",
     "output_type": "stream",
     "text": [
      "2333606220\n",
      "CPU times: user 1.29 ms, sys: 270 µs, total: 1.56 ms\n",
      "Wall time: 1.47 ms\n"
     ]
    }
   ],
   "source": [
    "%%time\n",
    "print(grid_traveler2(18,18))"
   ]
  },
  {
   "cell_type": "code",
   "execution_count": null,
   "metadata": {},
   "outputs": [],
   "source": []
  }
 ],
 "metadata": {
  "kernelspec": {
   "display_name": "Python 3",
   "language": "python",
   "name": "python3"
  },
  "language_info": {
   "codemirror_mode": {
    "name": "ipython",
    "version": 3
   },
   "file_extension": ".py",
   "mimetype": "text/x-python",
   "name": "python",
   "nbconvert_exporter": "python",
   "pygments_lexer": "ipython3",
   "version": "3.8.3"
  }
 },
 "nbformat": 4,
 "nbformat_minor": 4
}
