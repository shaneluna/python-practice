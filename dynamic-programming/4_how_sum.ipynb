{
 "cells": [
  {
   "cell_type": "markdown",
   "metadata": {},
   "source": [
    "# How Sum\n",
    "\n",
    "Write a function `howSum(targetSum, numbers)` that takes in a targetedSum and an array of numbers as arguments. The function should return an array containing any combination of elements that add up to exactly the targetSum. If there is no combination that adds up to the targetSum, then return null.\n",
    "\n",
    "- If there are multiple combinations possible, you may return any single one."
   ]
  },
  {
   "cell_type": "markdown",
   "metadata": {},
   "source": [
    "### 1. Recursion (Brute-Force)\n",
    "- Time: O(n<sup>m</sup> * m)\n",
    "- Space: O(m)\n",
    "\n",
    "where...\n",
    "- m = target sum\n",
    "- n = array length"
   ]
  },
  {
   "cell_type": "code",
   "execution_count": 1,
   "metadata": {},
   "outputs": [],
   "source": [
    "def how_sum1(target_sum, numbers):\n",
    "    if target_sum == 0:\n",
    "        return []\n",
    "    if target_sum < 0:\n",
    "        return None\n",
    "    \n",
    "    for num in numbers:\n",
    "        remainder = target_sum - num\n",
    "        remainder_result = how_sum1(remainder, numbers)\n",
    "        if remainder_result is not None:\n",
    "            remainder_result.append(num)\n",
    "            return remainder_result\n",
    "        \n",
    "    return None"
   ]
  },
  {
   "cell_type": "code",
   "execution_count": 2,
   "metadata": {},
   "outputs": [
    {
     "name": "stdout",
     "output_type": "stream",
     "text": [
      "[3, 2, 2]\n",
      "[4, 3]\n",
      "None\n",
      "[2, 2, 2, 2]\n"
     ]
    }
   ],
   "source": [
    "print(how_sum1(7, [2,3])) # [3, 2, 2]\n",
    "print(how_sum1(7, [5,3,4,7])) # [4, 3]\n",
    "print(how_sum1(7, [2,4])) # None\n",
    "print(how_sum1(8, [2,3,5])) # [2, 2, 2, 2]"
   ]
  },
  {
   "cell_type": "code",
   "execution_count": 3,
   "metadata": {},
   "outputs": [],
   "source": [
    "# Slow\n",
    "# print(how_sum1(300, [7,14])) # None"
   ]
  },
  {
   "cell_type": "markdown",
   "metadata": {},
   "source": [
    "### 2. Memoization\n",
    "- Time: (m<sup>2</sup>*n)\n",
    "- Space: O(m<sup>2</sup>)"
   ]
  },
  {
   "cell_type": "code",
   "execution_count": 4,
   "metadata": {},
   "outputs": [],
   "source": [
    "def how_sum2(target_sum, numbers, memo={}):\n",
    "    if target_sum == 0:\n",
    "        return []\n",
    "    if target_sum < 0:\n",
    "        return None\n",
    "    \n",
    "    if target_sum in memo:\n",
    "        return memo[target_sum]\n",
    "    \n",
    "    for num in numbers:\n",
    "        remainder = target_sum - num\n",
    "        remainder_result = how_sum2(remainder, numbers, memo)\n",
    "        if remainder_result is not None:\n",
    "            remainder_result.append(num)\n",
    "            memo[target_sum] = remainder_result\n",
    "            return remainder_result\n",
    "    \n",
    "    memo[target_sum] = None\n",
    "    return None"
   ]
  },
  {
   "cell_type": "code",
   "execution_count": 5,
   "metadata": {},
   "outputs": [
    {
     "name": "stdout",
     "output_type": "stream",
     "text": [
      "None\n"
     ]
    }
   ],
   "source": [
    "print(how_sum2(300, [7,14])) # None"
   ]
  },
  {
   "cell_type": "code",
   "execution_count": null,
   "metadata": {},
   "outputs": [],
   "source": []
  }
 ],
 "metadata": {
  "kernelspec": {
   "display_name": "Python 3",
   "language": "python",
   "name": "python3"
  },
  "language_info": {
   "codemirror_mode": {
    "name": "ipython",
    "version": 3
   },
   "file_extension": ".py",
   "mimetype": "text/x-python",
   "name": "python",
   "nbconvert_exporter": "python",
   "pygments_lexer": "ipython3",
   "version": "3.8.3"
  }
 },
 "nbformat": 4,
 "nbformat_minor": 4
}
