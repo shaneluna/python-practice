{
 "cells": [
  {
   "cell_type": "markdown",
   "metadata": {},
   "source": [
    "# Best Sum\n",
    "\n",
    "Write a function `bestSum(targetSum, numbers)` that takes in a targetedSum and an array of numbers as arguments. The function should return an array containing the **shortest** combination of numbers that add up to exactly the targetSum.\n",
    "\n",
    "- If there is a tie for the shortest combination, you may return any one of the shortest"
   ]
  },
  {
   "cell_type": "markdown",
   "metadata": {},
   "source": [
    "### 1. Recursion (Brute-Force)\n",
    "- Time: O(n<sup>m</sup> * m)\n",
    "- Space: O(m<sup>2</sup>)\n",
    "\n",
    "where...\n",
    "- m = target sum\n",
    "- n = array length"
   ]
  },
  {
   "cell_type": "code",
   "execution_count": 1,
   "metadata": {},
   "outputs": [],
   "source": [
    "def best_sum1(target_sum, numbers):\n",
    "    if target_sum == 0:\n",
    "        return []\n",
    "    if target_sum < 0:\n",
    "        return None\n",
    "    \n",
    "    shortest_combination = None\n",
    "    \n",
    "    for num in numbers:\n",
    "        remainder = target_sum - num\n",
    "        combination = best_sum1(remainder, numbers)\n",
    "        if combination is not None:\n",
    "            combination = combination + [num]\n",
    "            if shortest_combination is None or len(combination) < len(shortest_combination):\n",
    "                shortest_combination = combination\n",
    "        \n",
    "    return shortest_combination"
   ]
  },
  {
   "cell_type": "code",
   "execution_count": 2,
   "metadata": {},
   "outputs": [
    {
     "name": "stdout",
     "output_type": "stream",
     "text": [
      "[7]\n",
      "[5, 3]\n",
      "[4, 4]\n"
     ]
    }
   ],
   "source": [
    "print(best_sum1(7, [5,3,4,7])) # [7]\n",
    "print(best_sum1(8, [2,3,5])) # [3, 5]\n",
    "print(best_sum1(8, [1,4,5])) # [4, 4]"
   ]
  },
  {
   "cell_type": "code",
   "execution_count": 3,
   "metadata": {},
   "outputs": [],
   "source": [
    "# Slow\n",
    "# print(best_sum1(100, [1,2,5,25])) # [25, 25, 25, 25]"
   ]
  },
  {
   "cell_type": "markdown",
   "metadata": {},
   "source": [
    "### 2. Memoization\n",
    "- Time: (m<sup>2</sup>*n)\n",
    "- Space: O(m<sup>2</sup>)"
   ]
  },
  {
   "cell_type": "code",
   "execution_count": 4,
   "metadata": {},
   "outputs": [],
   "source": [
    "def best_sum2(target_sum, numbers, memo={}):\n",
    "    if target_sum in memo:\n",
    "        return memo[target_sum]\n",
    "    \n",
    "    if target_sum == 0:\n",
    "        return []\n",
    "    if target_sum < 0:\n",
    "        return None\n",
    "    \n",
    "    shortest_combination = None\n",
    "    \n",
    "    for num in numbers:\n",
    "        remainder = target_sum - num\n",
    "        combination = best_sum2(remainder, numbers, memo)\n",
    "        if combination is not None:\n",
    "            combination = combination + [num]\n",
    "            if shortest_combination == None or len(combination) < len(shortest_combination):\n",
    "                shortest_combination = combination\n",
    "    \n",
    "    memo[target_sum] = shortest_combination\n",
    "    return shortest_combination"
   ]
  },
  {
   "cell_type": "code",
   "execution_count": 5,
   "metadata": {},
   "outputs": [
    {
     "name": "stdout",
     "output_type": "stream",
     "text": [
      "[25, 25, 25, 25]\n"
     ]
    }
   ],
   "source": [
    "print(best_sum2(100, [1,2,5,25])) # [25, 25, 25, 25]"
   ]
  },
  {
   "cell_type": "code",
   "execution_count": null,
   "metadata": {},
   "outputs": [],
   "source": []
  }
 ],
 "metadata": {
  "kernelspec": {
   "display_name": "Python 3",
   "language": "python",
   "name": "python3"
  },
  "language_info": {
   "codemirror_mode": {
    "name": "ipython",
    "version": 3
   },
   "file_extension": ".py",
   "mimetype": "text/x-python",
   "name": "python",
   "nbconvert_exporter": "python",
   "pygments_lexer": "ipython3",
   "version": "3.8.3"
  }
 },
 "nbformat": 4,
 "nbformat_minor": 4
}
