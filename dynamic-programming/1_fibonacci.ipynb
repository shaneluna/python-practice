{
 "cells": [
  {
   "cell_type": "markdown",
   "metadata": {},
   "source": [
    "# Fibonacci\n",
    "Write a function `fib(n)` that takes in a number as an argument. The function should return the n-th number of the Fibonacci sequence.\n",
    "\n",
    "- The 1st and 2nd number of the sequence is 1.\n",
    "- To generate the next number of the sequence, we sum the previous two.\n",
    "\n",
    "https://www.youtube.com/watch?v=oBt53YbR9Kk"
   ]
  },
  {
   "cell_type": "markdown",
   "metadata": {},
   "source": [
    "### 1. Recursion (Brute-Force)\n",
    "- Time: O(2<sup>n</sup>)\n",
    "- Space: O(n)"
   ]
  },
  {
   "cell_type": "code",
   "execution_count": 1,
   "metadata": {},
   "outputs": [],
   "source": [
    "def fib1(n):\n",
    "    if n <= 2:\n",
    "        return 1\n",
    "    return fib1(n-1) + fib1(n-2)"
   ]
  },
  {
   "cell_type": "code",
   "execution_count": 2,
   "metadata": {},
   "outputs": [
    {
     "name": "stdout",
     "output_type": "stream",
     "text": [
      "8\n",
      "13\n",
      "2584\n"
     ]
    }
   ],
   "source": [
    "print(fib1(6))\n",
    "print(fib1(7))\n",
    "print(fib1(18))"
   ]
  },
  {
   "cell_type": "code",
   "execution_count": 3,
   "metadata": {},
   "outputs": [],
   "source": [
    "# very slow / not efficient\n",
    "# print(fib(50))"
   ]
  },
  {
   "cell_type": "markdown",
   "metadata": {},
   "source": [
    "### 2. Memoization\n",
    "- Time: O(n)\n",
    "- Space: O(n)"
   ]
  },
  {
   "cell_type": "code",
   "execution_count": 4,
   "metadata": {},
   "outputs": [],
   "source": [
    "def fib2(n, memo={}):\n",
    "    if n in memo:\n",
    "        return memo[n]\n",
    "    \n",
    "    if n <= 2:\n",
    "        return 1\n",
    "    \n",
    "    memo[n] = fib2(n-1, memo) + fib2(n-2, memo)\n",
    "    return memo[n]"
   ]
  },
  {
   "cell_type": "code",
   "execution_count": 5,
   "metadata": {},
   "outputs": [
    {
     "name": "stdout",
     "output_type": "stream",
     "text": [
      "CPU times: user 135 µs, sys: 43 µs, total: 178 µs\n",
      "Wall time: 190 µs\n"
     ]
    },
    {
     "data": {
      "text/plain": [
       "12586269025"
      ]
     },
     "execution_count": 5,
     "metadata": {},
     "output_type": "execute_result"
    }
   ],
   "source": [
    "%%time\n",
    "fib2(50)"
   ]
  },
  {
   "cell_type": "markdown",
   "metadata": {},
   "source": [
    "### 3. Dictionary\n",
    "- Time: O(n)\n",
    "- Space: O(n)"
   ]
  },
  {
   "cell_type": "code",
   "execution_count": 6,
   "metadata": {},
   "outputs": [],
   "source": [
    "def fib3(n):\n",
    "    seq = {1:1, 2:1}\n",
    "    \n",
    "    if n <= 2:\n",
    "        return seq[n]\n",
    "    \n",
    "    for i in range(3, n+1):\n",
    "        seq[i] = seq[i-2] + seq[i-1]\n",
    "        \n",
    "    return seq[i]"
   ]
  },
  {
   "cell_type": "code",
   "execution_count": 7,
   "metadata": {},
   "outputs": [
    {
     "name": "stdout",
     "output_type": "stream",
     "text": [
      "CPU times: user 45 µs, sys: 1e+03 ns, total: 46 µs\n",
      "Wall time: 53.2 µs\n"
     ]
    },
    {
     "data": {
      "text/plain": [
       "12586269025"
      ]
     },
     "execution_count": 7,
     "metadata": {},
     "output_type": "execute_result"
    }
   ],
   "source": [
    "%%time\n",
    "fib3(50)"
   ]
  },
  {
   "cell_type": "code",
   "execution_count": null,
   "metadata": {},
   "outputs": [],
   "source": []
  }
 ],
 "metadata": {
  "kernelspec": {
   "display_name": "Python 3",
   "language": "python",
   "name": "python3"
  },
  "language_info": {
   "codemirror_mode": {
    "name": "ipython",
    "version": 3
   },
   "file_extension": ".py",
   "mimetype": "text/x-python",
   "name": "python",
   "nbconvert_exporter": "python",
   "pygments_lexer": "ipython3",
   "version": "3.8.3"
  }
 },
 "nbformat": 4,
 "nbformat_minor": 4
}
